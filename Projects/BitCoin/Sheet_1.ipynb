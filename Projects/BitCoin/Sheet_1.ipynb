{
 "cells": [
  {
   "cell_type": "code",
   "execution_count": 8,
   "id": "87c73298",
   "metadata": {},
   "outputs": [],
   "source": [
    "import os\n",
    "import pandas as pd\n",
    "\n",
    "# Folder path where your 15 CSV files are stored\n",
    "folder_path = r\"C:\\Users\\HP\\Desktop\\Python\\Vs Python\\Projects\\BitCoin\\DATASET\"\n",
    "\n",
    "# List all CSV files in the folder\n",
    "csv_files = [file for file in os.listdir(folder_path) if file.endswith('.csv')]\n",
    "\n",
    "# Read and concatenate all CSVs\n",
    "all_data = pd.concat([pd.read_csv(os.path.join(folder_path, file), sep=';') for file in csv_files], ignore_index=True)\n",
    "\n",
    "# Save to a single merged CSV\n",
    "all_data.to_csv(\"merged_output.csv\", index=False)\n"
   ]
  },
  {
   "cell_type": "code",
   "execution_count": 9,
   "id": "437b266b",
   "metadata": {},
   "outputs": [
    {
     "data": {
      "text/html": [
       "<div>\n",
       "<style scoped>\n",
       "    .dataframe tbody tr th:only-of-type {\n",
       "        vertical-align: middle;\n",
       "    }\n",
       "\n",
       "    .dataframe tbody tr th {\n",
       "        vertical-align: top;\n",
       "    }\n",
       "\n",
       "    .dataframe thead th {\n",
       "        text-align: right;\n",
       "    }\n",
       "</style>\n",
       "<table border=\"1\" class=\"dataframe\">\n",
       "  <thead>\n",
       "    <tr style=\"text-align: right;\">\n",
       "      <th></th>\n",
       "      <th>timeOpen,timeClose,timeHigh,timeLow,name,open,high,low,close,volume,marketCap,timestamp</th>\n",
       "    </tr>\n",
       "  </thead>\n",
       "  <tbody>\n",
       "    <tr>\n",
       "      <th>0</th>\n",
       "      <td>2012-12-31T00:00:00.000Z,2012-12-31T23:59:59.9...</td>\n",
       "    </tr>\n",
       "    <tr>\n",
       "      <th>1</th>\n",
       "      <td>2012-12-30T00:00:00.000Z,2012-12-30T23:59:59.9...</td>\n",
       "    </tr>\n",
       "    <tr>\n",
       "      <th>2</th>\n",
       "      <td>2012-12-29T00:00:00.000Z,2012-12-29T23:59:59.9...</td>\n",
       "    </tr>\n",
       "    <tr>\n",
       "      <th>3</th>\n",
       "      <td>2012-12-28T00:00:00.000Z,2012-12-28T23:59:59.9...</td>\n",
       "    </tr>\n",
       "    <tr>\n",
       "      <th>4</th>\n",
       "      <td>2012-12-27T00:00:00.000Z,2012-12-27T23:59:59.9...</td>\n",
       "    </tr>\n",
       "    <tr>\n",
       "      <th>...</th>\n",
       "      <td>...</td>\n",
       "    </tr>\n",
       "    <tr>\n",
       "      <th>5256</th>\n",
       "      <td>2011-01-06T00:00:00.000Z,2011-01-06T23:59:59.9...</td>\n",
       "    </tr>\n",
       "    <tr>\n",
       "      <th>5257</th>\n",
       "      <td>2011-01-05T00:00:00.000Z,2011-01-05T23:59:59.9...</td>\n",
       "    </tr>\n",
       "    <tr>\n",
       "      <th>5258</th>\n",
       "      <td>2011-01-04T00:00:00.000Z,2011-01-04T23:59:59.9...</td>\n",
       "    </tr>\n",
       "    <tr>\n",
       "      <th>5259</th>\n",
       "      <td>2011-01-03T00:00:00.000Z,2011-01-03T23:59:59.9...</td>\n",
       "    </tr>\n",
       "    <tr>\n",
       "      <th>5260</th>\n",
       "      <td>2011-01-02T00:00:00.000Z,2011-01-02T23:59:59.9...</td>\n",
       "    </tr>\n",
       "  </tbody>\n",
       "</table>\n",
       "<p>5261 rows × 1 columns</p>\n",
       "</div>"
      ],
      "text/plain": [
       "     timeOpen,timeClose,timeHigh,timeLow,name,open,high,low,close,volume,marketCap,timestamp\n",
       "0     2012-12-31T00:00:00.000Z,2012-12-31T23:59:59.9...                                     \n",
       "1     2012-12-30T00:00:00.000Z,2012-12-30T23:59:59.9...                                     \n",
       "2     2012-12-29T00:00:00.000Z,2012-12-29T23:59:59.9...                                     \n",
       "3     2012-12-28T00:00:00.000Z,2012-12-28T23:59:59.9...                                     \n",
       "4     2012-12-27T00:00:00.000Z,2012-12-27T23:59:59.9...                                     \n",
       "...                                                 ...                                     \n",
       "5256  2011-01-06T00:00:00.000Z,2011-01-06T23:59:59.9...                                     \n",
       "5257  2011-01-05T00:00:00.000Z,2011-01-05T23:59:59.9...                                     \n",
       "5258  2011-01-04T00:00:00.000Z,2011-01-04T23:59:59.9...                                     \n",
       "5259  2011-01-03T00:00:00.000Z,2011-01-03T23:59:59.9...                                     \n",
       "5260  2011-01-02T00:00:00.000Z,2011-01-02T23:59:59.9...                                     \n",
       "\n",
       "[5261 rows x 1 columns]"
      ]
     },
     "execution_count": 9,
     "metadata": {},
     "output_type": "execute_result"
    }
   ],
   "source": [
    "pd.read_csv(r'C:\\Users\\HP\\Desktop\\Python\\Vs Python\\Projects\\BitCoin\\merged_output.csv')"
   ]
  },
  {
   "cell_type": "code",
   "execution_count": null,
   "id": "648364eb",
   "metadata": {},
   "outputs": [],
   "source": []
  }
 ],
 "metadata": {
  "kernelspec": {
   "display_name": "base",
   "language": "python",
   "name": "python3"
  },
  "language_info": {
   "codemirror_mode": {
    "name": "ipython",
    "version": 3
   },
   "file_extension": ".py",
   "mimetype": "text/x-python",
   "name": "python",
   "nbconvert_exporter": "python",
   "pygments_lexer": "ipython3",
   "version": "3.12.7"
  }
 },
 "nbformat": 4,
 "nbformat_minor": 5
}
